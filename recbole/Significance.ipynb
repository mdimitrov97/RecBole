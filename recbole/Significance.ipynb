{
 "cells": [
  {
   "cell_type": "code",
   "execution_count": 92,
   "metadata": {},
   "outputs": [],
   "source": [
    "import pickle\n",
    "import numpy as np\n",
    "np.set_printoptions(suppress=True,formatter={'float_kind':'{:0.2f}'.format})\n",
    "from scipy import stats"
   ]
  },
  {
   "cell_type": "code",
   "execution_count": 125,
   "metadata": {},
   "outputs": [],
   "source": [
    "def significance(file1,file2):\n",
    "\n",
    "    result_list_1 = pickle.load( open(file1, \"rb\" ) )\n",
    "    result_list_2 = pickle.load( open(file2, \"rb\" ) )\n",
    "    stats_hr, p_hr = stats.ttest_rel(np.mean(result_list_1[0],axis=1),np.mean(result_list_2[0],axis=1))\n",
    "    stats_mrr, p_mrr = stats.ttest_rel(np.mean(result_list_1[1],axis=1),np.mean(result_list_2[1],axis=1))\n",
    "    stats_ndcg, p_ndcg = stats.ttest_rel(np.mean(result_list_1[2],axis=1),np.mean(result_list_2[2],axis=1))\n",
    "    return p_hr, p_mrr, np.round(p_ndcg,10)"
   ]
  },
  {
   "cell_type": "code",
   "execution_count": 128,
   "metadata": {},
   "outputs": [
    {
     "data": {
      "text/plain": [
       "(0.8074925727964442, 1.5890458258376918e-07, 2.0049e-05)"
      ]
     },
     "execution_count": 128,
     "metadata": {},
     "output_type": "execute_result"
    }
   ],
   "source": [
    "significance(\"stored values/STAMP Amazon.p\",\"stored values/STAMP Amazon brand.p\")"
   ]
  },
  {
   "cell_type": "code",
   "execution_count": null,
   "metadata": {},
   "outputs": [],
   "source": []
  }
 ],
 "metadata": {
  "kernelspec": {
   "display_name": "Python 3",
   "language": "python",
   "name": "python3"
  },
  "language_info": {
   "codemirror_mode": {
    "name": "ipython",
    "version": 3
   },
   "file_extension": ".py",
   "mimetype": "text/x-python",
   "name": "python",
   "nbconvert_exporter": "python",
   "pygments_lexer": "ipython3",
   "version": "3.8.5"
  }
 },
 "nbformat": 4,
 "nbformat_minor": 4
}
